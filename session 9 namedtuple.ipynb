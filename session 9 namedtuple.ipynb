{
 "cells": [
  {
   "cell_type": "code",
   "execution_count": null,
   "id": "660ce254-b0a8-42b3-be03-6febbc8daf16",
   "metadata": {},
   "outputs": [],
   "source": [
    "# dict_dp = dp[0]\n",
    "# dict_dp['age'] = age_teller(dict_dp['birthdate'])"
   ]
  },
  {
   "cell_type": "code",
   "execution_count": 1,
   "id": "9d678783-2607-4929-82c7-c85e25ce3485",
   "metadata": {},
   "outputs": [],
   "source": [
    "# Import necessary modules\n",
    "from datetime import date\n",
    "from time import perf_counter\n",
    "from datetime import datetime\n",
    "from collections import namedtuple\n",
    "import random\n",
    "from collections import Counter\n",
    "from faker import Faker\n",
    "from decimal import Decimal\n",
    "from numpy import mean"
   ]
  },
  {
   "cell_type": "code",
   "execution_count": 2,
   "id": "9617bb32-01c8-4e5e-8d80-a94d203c28be",
   "metadata": {},
   "outputs": [],
   "source": [
    "def age_teller(birthDate: 'date') -> int:\n",
    "    '''\n",
    "    The function takes birth date in date format i.e. date(2000, 11, 4) and returns the age in int format.\n",
    "    Obviously, a crude approximation -- finding total number of days in between today and birth date and dividing\n",
    "    it by 365.24. We can remove the int to return the age in float too.\n",
    "    :param birthDate: in date format\n",
    "    :return: int\n",
    "    '''\n",
    "    num_days = 365.24\n",
    "    if isinstance(birthDate, date):\n",
    "        age = int((date.today() - birthDate).days / num_days)\n",
    "        return age\n",
    "    else:\n",
    "        return f'ValueError: Enter birthDate in date format, eg. date(2000, 11, 4)'"
   ]
  },
  {
   "cell_type": "code",
   "execution_count": 3,
   "id": "41b3ce38-52ce-489b-923d-47cf7210d1c0",
   "metadata": {},
   "outputs": [],
   "source": [
    "# Faker() has an in-built random generator and hence its just enough to generate profiles\n",
    "# using an iterator. Here seed() function is used to generate repeatable instances of profiles.\n",
    "\n",
    "Faker.seed(10)\n",
    "myFaker = Faker()\n",
    "sample_size = 10000\n",
    "dp = [myFaker.profile() for i in range(sample_size)]"
   ]
  },
  {
   "cell_type": "code",
   "execution_count": null,
   "id": "e393fc52-9e00-49ef-9a74-d2ec5346da89",
   "metadata": {},
   "outputs": [],
   "source": [
    "dp[0] # just for checking the structure / type of data, and before adding 'age' key"
   ]
  },
  {
   "cell_type": "code",
   "execution_count": 4,
   "id": "24191c30-c8cd-4981-824d-66fe52c2a1bb",
   "metadata": {},
   "outputs": [],
   "source": [
    "for item in dp:\n",
    "    if 'age' not in item.keys():\n",
    "        item['age'] = age_teller(item['birthdate'])"
   ]
  },
  {
   "cell_type": "code",
   "execution_count": null,
   "id": "87c501dd-3320-4ae0-8c6d-ba1d05278a99",
   "metadata": {},
   "outputs": [],
   "source": [
    "dp[0] # updates the earlier dp by adding (key, value) pair using (age, age_teller(birthDate))"
   ]
  },
  {
   "cell_type": "code",
   "execution_count": 5,
   "id": "c3b8fa07-2eda-4372-889b-46fc82bb10f3",
   "metadata": {
    "tags": []
   },
   "outputs": [
    {
     "name": "stdout",
     "output_type": "stream",
     "text": [
      "Average Age for a set of 10000 random profiles is 57.2926\n",
      "and the average execution time is 0.009224206367005536 secs\n",
      "Average Age by name operator is 57.2926\n"
     ]
    }
   ],
   "source": [
    "# namedtuple operation -- Average Age\n",
    "# Find Average age among profiles\n",
    "\n",
    "Age = namedtuple('Age', 'age')\n",
    "total = 0\n",
    "num_ops = 1000\n",
    "for i in range(num_ops):\n",
    "    start = perf_counter()\n",
    "    ageList = [Age(item['age']) for item in dp]\n",
    "    x = Age(*map(mean, zip(*ageList)))\n",
    "    total += perf_counter() - start\n",
    "aveAge_ntuple_time = total/num_ops\n",
    "print(f'Average Age for a set of {sample_size} random profiles is {x.age}')\n",
    "print(f'and the average execution time is {aveAge_ntuple_time} secs')\n",
    "\n",
    "# Another method to get the average age using namedtuple's name operator, i.e. x.age\n",
    "ave_age = mean(list(map(lambda x: x.age, ageList)))\n",
    "print(f'Average Age by name operator is {ave_age}')"
   ]
  },
  {
   "cell_type": "code",
   "execution_count": 6,
   "id": "509e46c8-fad2-4c18-b4d3-0db194c714c6",
   "metadata": {
    "collapsed": true,
    "jupyter": {
     "outputs_hidden": true
    },
    "tags": []
   },
   "outputs": [
    {
     "name": "stdout",
     "output_type": "stream",
     "text": [
      "Help on class Age in module __main__:\n",
      "\n",
      "class Age(builtins.tuple)\n",
      " |  Age(age)\n",
      " |  \n",
      " |  Age(age,)\n",
      " |  \n",
      " |  Method resolution order:\n",
      " |      Age\n",
      " |      builtins.tuple\n",
      " |      builtins.object\n",
      " |  \n",
      " |  Methods defined here:\n",
      " |  \n",
      " |  __getnewargs__(self)\n",
      " |      Return self as a plain tuple.  Used by copy and pickle.\n",
      " |  \n",
      " |  __repr__(self)\n",
      " |      Return a nicely formatted representation string\n",
      " |  \n",
      " |  _asdict(self)\n",
      " |      Return a new OrderedDict which maps field names to their values.\n",
      " |  \n",
      " |  _replace(_self, **kwds)\n",
      " |      Return a new Age object replacing specified fields with new values\n",
      " |  \n",
      " |  ----------------------------------------------------------------------\n",
      " |  Class methods defined here:\n",
      " |  \n",
      " |  _make(iterable) from builtins.type\n",
      " |      Make a new Age object from a sequence or iterable\n",
      " |  \n",
      " |  ----------------------------------------------------------------------\n",
      " |  Static methods defined here:\n",
      " |  \n",
      " |  __new__(_cls, age)\n",
      " |      Create new instance of Age(age,)\n",
      " |  \n",
      " |  ----------------------------------------------------------------------\n",
      " |  Data descriptors defined here:\n",
      " |  \n",
      " |  age\n",
      " |      Alias for field number 0\n",
      " |  \n",
      " |  ----------------------------------------------------------------------\n",
      " |  Data and other attributes defined here:\n",
      " |  \n",
      " |  _field_defaults = {}\n",
      " |  \n",
      " |  _fields = ('age',)\n",
      " |  \n",
      " |  _fields_defaults = {}\n",
      " |  \n",
      " |  ----------------------------------------------------------------------\n",
      " |  Methods inherited from builtins.tuple:\n",
      " |  \n",
      " |  __add__(self, value, /)\n",
      " |      Return self+value.\n",
      " |  \n",
      " |  __contains__(self, key, /)\n",
      " |      Return key in self.\n",
      " |  \n",
      " |  __eq__(self, value, /)\n",
      " |      Return self==value.\n",
      " |  \n",
      " |  __ge__(self, value, /)\n",
      " |      Return self>=value.\n",
      " |  \n",
      " |  __getattribute__(self, name, /)\n",
      " |      Return getattr(self, name).\n",
      " |  \n",
      " |  __getitem__(self, key, /)\n",
      " |      Return self[key].\n",
      " |  \n",
      " |  __gt__(self, value, /)\n",
      " |      Return self>value.\n",
      " |  \n",
      " |  __hash__(self, /)\n",
      " |      Return hash(self).\n",
      " |  \n",
      " |  __iter__(self, /)\n",
      " |      Implement iter(self).\n",
      " |  \n",
      " |  __le__(self, value, /)\n",
      " |      Return self<=value.\n",
      " |  \n",
      " |  __len__(self, /)\n",
      " |      Return len(self).\n",
      " |  \n",
      " |  __lt__(self, value, /)\n",
      " |      Return self<value.\n",
      " |  \n",
      " |  __mul__(self, value, /)\n",
      " |      Return self*value.\n",
      " |  \n",
      " |  __ne__(self, value, /)\n",
      " |      Return self!=value.\n",
      " |  \n",
      " |  __rmul__(self, value, /)\n",
      " |      Return value*self.\n",
      " |  \n",
      " |  count(self, value, /)\n",
      " |      Return number of occurrences of value.\n",
      " |  \n",
      " |  index(self, value, start=0, stop=9223372036854775807, /)\n",
      " |      Return first index of value.\n",
      " |      \n",
      " |      Raises ValueError if the value is not present.\n",
      "\n"
     ]
    }
   ],
   "source": [
    "help(Age) # Before adding docstrings and the output of this cell is kept hidden due to large output content"
   ]
  },
  {
   "cell_type": "code",
   "execution_count": 58,
   "id": "d8b1048a-0d5a-41cd-a44c-adf8075ff483",
   "metadata": {},
   "outputs": [],
   "source": [
    "Age.__doc__ = '''\\\n",
    "Age is a namedtuple with a single field variable \"age\"'''"
   ]
  },
  {
   "cell_type": "code",
   "execution_count": 59,
   "id": "e052c525-8048-4d2f-80e8-e4ec1592a8f3",
   "metadata": {},
   "outputs": [],
   "source": [
    "Age.age.__doc__ = '''\\\n",
    "\"age\" is a field variable for the namedtuple \"Age\", and \"age\" is not present in Faker(). \n",
    "It is added as a last (key, value) pair using age_teller function in this notebook'''"
   ]
  },
  {
   "cell_type": "code",
   "execution_count": 9,
   "id": "a8a39f06-3367-4623-b82b-5685a68d90e0",
   "metadata": {
    "collapsed": true,
    "jupyter": {
     "outputs_hidden": true
    },
    "tags": []
   },
   "outputs": [
    {
     "name": "stdout",
     "output_type": "stream",
     "text": [
      "Help on class Age in module __main__:\n",
      "\n",
      "class Age(builtins.tuple)\n",
      " |  Age(age)\n",
      " |  \n",
      " |  Age is a namedtuple with a single field variable \"age\"\n",
      " |  \n",
      " |  Method resolution order:\n",
      " |      Age\n",
      " |      builtins.tuple\n",
      " |      builtins.object\n",
      " |  \n",
      " |  Methods defined here:\n",
      " |  \n",
      " |  __getnewargs__(self)\n",
      " |      Return self as a plain tuple.  Used by copy and pickle.\n",
      " |  \n",
      " |  __repr__(self)\n",
      " |      Return a nicely formatted representation string\n",
      " |  \n",
      " |  _asdict(self)\n",
      " |      Return a new OrderedDict which maps field names to their values.\n",
      " |  \n",
      " |  _replace(_self, **kwds)\n",
      " |      Return a new Age object replacing specified fields with new values\n",
      " |  \n",
      " |  ----------------------------------------------------------------------\n",
      " |  Class methods defined here:\n",
      " |  \n",
      " |  _make(iterable) from builtins.type\n",
      " |      Make a new Age object from a sequence or iterable\n",
      " |  \n",
      " |  ----------------------------------------------------------------------\n",
      " |  Static methods defined here:\n",
      " |  \n",
      " |  __new__(_cls, age)\n",
      " |      Create new instance of Age(age,)\n",
      " |  \n",
      " |  ----------------------------------------------------------------------\n",
      " |  Data descriptors defined here:\n",
      " |  \n",
      " |  age\n",
      " |      \"age\" is a field variable for the namedtuple \"Age\", and \"age\" is not present in Faker(). \n",
      " |      It is added as a last (key, value) pair using age_teller function in this notebook\n",
      " |  \n",
      " |  ----------------------------------------------------------------------\n",
      " |  Data and other attributes defined here:\n",
      " |  \n",
      " |  _field_defaults = {}\n",
      " |  \n",
      " |  _fields = ('age',)\n",
      " |  \n",
      " |  _fields_defaults = {}\n",
      " |  \n",
      " |  ----------------------------------------------------------------------\n",
      " |  Methods inherited from builtins.tuple:\n",
      " |  \n",
      " |  __add__(self, value, /)\n",
      " |      Return self+value.\n",
      " |  \n",
      " |  __contains__(self, key, /)\n",
      " |      Return key in self.\n",
      " |  \n",
      " |  __eq__(self, value, /)\n",
      " |      Return self==value.\n",
      " |  \n",
      " |  __ge__(self, value, /)\n",
      " |      Return self>=value.\n",
      " |  \n",
      " |  __getattribute__(self, name, /)\n",
      " |      Return getattr(self, name).\n",
      " |  \n",
      " |  __getitem__(self, key, /)\n",
      " |      Return self[key].\n",
      " |  \n",
      " |  __gt__(self, value, /)\n",
      " |      Return self>value.\n",
      " |  \n",
      " |  __hash__(self, /)\n",
      " |      Return hash(self).\n",
      " |  \n",
      " |  __iter__(self, /)\n",
      " |      Implement iter(self).\n",
      " |  \n",
      " |  __le__(self, value, /)\n",
      " |      Return self<=value.\n",
      " |  \n",
      " |  __len__(self, /)\n",
      " |      Return len(self).\n",
      " |  \n",
      " |  __lt__(self, value, /)\n",
      " |      Return self<value.\n",
      " |  \n",
      " |  __mul__(self, value, /)\n",
      " |      Return self*value.\n",
      " |  \n",
      " |  __ne__(self, value, /)\n",
      " |      Return self!=value.\n",
      " |  \n",
      " |  __rmul__(self, value, /)\n",
      " |      Return value*self.\n",
      " |  \n",
      " |  count(self, value, /)\n",
      " |      Return number of occurrences of value.\n",
      " |  \n",
      " |  index(self, value, start=0, stop=9223372036854775807, /)\n",
      " |      Return first index of value.\n",
      " |      \n",
      " |      Raises ValueError if the value is not present.\n",
      "\n"
     ]
    }
   ],
   "source": [
    "help(Age) # This help shows after adding docstrings to both the namedtuple and its field variables\n",
    "# Again the output fot this cell is hidden due to large content."
   ]
  },
  {
   "cell_type": "code",
   "execution_count": 10,
   "id": "d145f20e-5d37-46a3-9209-50255f57f0b1",
   "metadata": {},
   "outputs": [
    {
     "name": "stdout",
     "output_type": "stream",
     "text": [
      "Oldest Person's' age for a set of 10000 random profiles is 116\n",
      "and the average execution time is 0.006711062174115796 secs\n",
      "Average Age by name operator is 116\n"
     ]
    }
   ],
   "source": [
    "# namedtuple operation -- Oldest Person's Age\n",
    "# find the maximum age among profiles\n",
    "\n",
    "# Age = namedtuple('Age', 'age') # We can remove this -- already defined above\n",
    "\n",
    "total = 0\n",
    "num_ops = 1000\n",
    "for i in range(num_ops):\n",
    "    start = perf_counter()\n",
    "    ageList = [Age(item['age']) for item in dp]\n",
    "    x = max(list(map(lambda x: x.age, ageList)))\n",
    "    total += perf_counter() - start\n",
    "maxAge_ntuple_time = total/num_ops\n",
    "print(f'Oldest Person\\'s\\' age for a set of {sample_size} random profiles is {x}')\n",
    "print(f'and the average execution time is {maxAge_ntuple_time} secs')\n",
    "\n",
    "# Another method to get the oldest age using namedtuple and map\n",
    "old_Person = Age(*map(max, zip(*ageList)))\n",
    "print(f'Average Age by name operator is {old_Person.age}')"
   ]
  },
  {
   "cell_type": "code",
   "execution_count": 11,
   "id": "312f0ad3-6512-4d33-bce2-023b462d26e9",
   "metadata": {},
   "outputs": [
    {
     "name": "stdout",
     "output_type": "stream",
     "text": [
      "The mean of current location clusters for 10000 random profiles is C_Location(lat=Decimal('0.73033404675'), long=Decimal('0.4043659084'))\n",
      "and the average execution time is 0.026524745655944572 secs\n"
     ]
    }
   ],
   "source": [
    "# namedtuple operation -- Mean Current Location\n",
    "\n",
    "# Actually this method of obtaining mean current location is flawed. Suppose we have a positive\n",
    "# latitude of X, and another a latitude of negative X, mean location ends up as 0. The preferred\n",
    "# method of caluclating mean current location in terms of latitude and longitude involves inclusion\n",
    "# of trigonometrical functions\n",
    "\n",
    "C_Location = namedtuple('C_Location', ('lat', 'long'))\n",
    "total = 0\n",
    "num_ops = 1000\n",
    "for i in range(num_ops):\n",
    "    start = perf_counter()\n",
    "    locList = [C_Location(*item['current_location']) for item in dp]\n",
    "    x = C_Location(*map(mean, zip(*locList)))\n",
    "    total += perf_counter() - start\n",
    "curLoc_ntuple_time = total/num_ops\n",
    "print(f'The mean of current location clusters for {sample_size} random profiles is {x}')\n",
    "print(f'and the average execution time is {curLoc_ntuple_time} secs')"
   ]
  },
  {
   "cell_type": "code",
   "execution_count": 12,
   "id": "13d62fff-fb5a-49c2-ba3f-c8c216e7440c",
   "metadata": {},
   "outputs": [],
   "source": [
    "C_Location = namedtuple('C_Location', ('lat', 'long'))\n",
    "C_Location.__doc__ = '''\\\n",
    "Named Tuple having 2 fields, first field for latitude and the second one for longitude'''\n",
    "\n",
    "C_Location.lat.__doc__ = '''\\\n",
    "This field stores the latitude of the current location.'''\n",
    "\n",
    "C_Location.long.__doc__ = '''\\\n",
    "The \"long\" field stores the longitude data of the current location'''"
   ]
  },
  {
   "cell_type": "code",
   "execution_count": 13,
   "id": "f7ed2b92-501c-459d-bdfd-b72a8025e645",
   "metadata": {},
   "outputs": [
    {
     "name": "stdout",
     "output_type": "stream",
     "text": [
      "The largest occurring blood_group type for 10000 random profiles is \"B-\"\n",
      "which occurred 1316 times\n",
      "and the average execution time is 0.008271285743205226 secs\n"
     ]
    }
   ],
   "source": [
    "# namedtuple operation -- Largest Blood Type\n",
    "# Slightly hard or I don't know how to use namedtuple to the best here\n",
    "\n",
    "Bloodgroup = namedtuple('Bloodgroup', 'blood_group')\n",
    "total = 0\n",
    "num_ops = 1000\n",
    "for i in range(num_ops):\n",
    "    start = perf_counter()\n",
    "    bgList = [Bloodgroup(item['blood_group']) for item in dp]\n",
    "    x = Counter(bgList).most_common(1)[0]\n",
    "    ntime = Counter(bgList).most_common(1)[0][1]\n",
    "    bg_x = x[0].blood_group\n",
    "    total += perf_counter() - start\n",
    "bgroup_ntuple_time = total/num_ops\n",
    "print(f'The largest occurring blood_group type for {sample_size} random profiles is \"{bg_x}\"')\n",
    "print(f'which occurred {ntime} times')\n",
    "print(f'and the average execution time is {bgroup_ntuple_time} secs')"
   ]
  },
  {
   "cell_type": "code",
   "execution_count": 14,
   "id": "61722988-9276-49bd-ab01-4046326320ff",
   "metadata": {},
   "outputs": [],
   "source": [
    "Bloodgroup.__doc__ = '''\\\n",
    "Named Tuple for storing the blood type data.'''\n",
    "\n",
    "Bloodgroup.blood_group.__doc__ = '''\\\n",
    "The blood type is recorded as a string.'''"
   ]
  },
  {
   "cell_type": "code",
   "execution_count": 15,
   "id": "81cba221-e0a6-401f-9934-be7ef792d74a",
   "metadata": {},
   "outputs": [
    {
     "name": "stdout",
     "output_type": "stream",
     "text": [
      "Average Age for a set of 10000 random profiles is 57.2926\n",
      "and the average execution time is 0.001009060434953426 secs\n"
     ]
    }
   ],
   "source": [
    "# Dictionary operation -- Average Age\n",
    "# Find Average age among profiles\n",
    "\n",
    "total = 0\n",
    "num_ops = 1000\n",
    "for i in range(num_ops):\n",
    "    start = perf_counter()\n",
    "    x = mean([item['age'] for item in dp])\n",
    "    total += perf_counter() - start\n",
    "aveAge_dict_time = total/num_ops\n",
    "print(f'Average Age for a set of {sample_size} random profiles is {x}')\n",
    "print(f'and the average execution time is {aveAge_dict_time} secs')"
   ]
  },
  {
   "cell_type": "code",
   "execution_count": 16,
   "id": "e3c0e712-192b-4284-a1da-a7a58b68e9d1",
   "metadata": {},
   "outputs": [
    {
     "name": "stdout",
     "output_type": "stream",
     "text": [
      "Oldest Person's' age for a set of 10000 random profiles is 116\n",
      "and the average execution time is 0.0005958481500347261 secs\n"
     ]
    }
   ],
   "source": [
    "# Dictionary operation -- Oldest Person's Age\n",
    "\n",
    "# The application of dictionary in calculating oldest person's age seems not justifiable\n",
    "# as most of the time consuming operations are done in extracting maximum out a list that is\n",
    "# obtained from already existing dictionary.\n",
    "\n",
    "total = 0\n",
    "num_ops = 1000\n",
    "for i in range(num_ops):\n",
    "    start = perf_counter()\n",
    "    x = max([item['age'] for item in dp])\n",
    "    total += perf_counter() - start\n",
    "maxAge_dict_time = total/num_ops\n",
    "print(f'Oldest Person\\'s\\' age for a set of {sample_size} random profiles is {x}')\n",
    "print(f'and the average execution time is {maxAge_dict_time} secs')"
   ]
  },
  {
   "cell_type": "code",
   "execution_count": 17,
   "id": "da40edfe-6e24-4041-9211-8a193b7cc86a",
   "metadata": {},
   "outputs": [
    {
     "name": "stdout",
     "output_type": "stream",
     "text": [
      "Oldest Person's' age for a set of 10000 random profiles is 116\n",
      "and the average execution time is 0.0008164763520690031 secs\n"
     ]
    }
   ],
   "source": [
    "# Dictionary operation -- Oldest Person's Age\n",
    "\n",
    "# The application of dictionary in calculating oldest person's age seems not justifiable\n",
    "# as most of the time consuming operations are done in extracting maximum out a list that is\n",
    "# obtained from already existing dictionary.\n",
    "\n",
    "total = 0\n",
    "num_ops = 1000\n",
    "for i in range(num_ops):\n",
    "    start = perf_counter()\n",
    "    max_age = 0\n",
    "    for item in dp:\n",
    "        if item['age'] > max_age:\n",
    "            max_age = item['age']\n",
    "    x = max_age\n",
    "    total += perf_counter() - start\n",
    "maxAge_dict_time2 = total/num_ops\n",
    "print(f'Oldest Person\\'s\\' age for a set of {sample_size} random profiles is {x}')\n",
    "print(f'and the average execution time is {maxAge_dict_time2} secs')"
   ]
  },
  {
   "cell_type": "code",
   "execution_count": 18,
   "id": "f3cd6101-0468-41bc-a708-5d6a94584828",
   "metadata": {},
   "outputs": [],
   "source": [
    "loc_dict = []\n",
    "for item in dp:\n",
    "    loc_dict.append(item['current_location'])  "
   ]
  },
  {
   "cell_type": "code",
   "execution_count": 19,
   "id": "6b57baa8-5d57-408c-9508-3c2762893454",
   "metadata": {},
   "outputs": [
    {
     "data": {
      "text/plain": [
       "[Decimal('0.73033404675'), Decimal('0.4043659084')]"
      ]
     },
     "execution_count": 19,
     "metadata": {},
     "output_type": "execute_result"
    }
   ],
   "source": [
    "list(map(mean, zip(*loc_dict)))"
   ]
  },
  {
   "cell_type": "code",
   "execution_count": 20,
   "id": "c48de6a2-af09-4f4b-b564-0255e0ca444e",
   "metadata": {},
   "outputs": [
    {
     "name": "stdout",
     "output_type": "stream",
     "text": [
      "The mean of current location clusters for 10000 random profiles is C_Location(lat=Decimal('0.73033404675'), long=Decimal('0.4043659084'))\n",
      "and the average execution time is 0.019658097313062173 secs\n"
     ]
    }
   ],
   "source": [
    "# Dictionary operation -- Mean Current Location\n",
    "\n",
    "total = 0\n",
    "num_ops = 1000\n",
    "for i in range(num_ops):\n",
    "    start = perf_counter()\n",
    "    x = C_Location(*map(mean, zip(*locList)))\n",
    "    total += perf_counter() - start\n",
    "curLoc_dict_time = total/num_ops\n",
    "print(f'The mean of current location clusters for {sample_size} random profiles is {x}')\n",
    "print(f'and the average execution time is {curLoc_dict_time} secs')"
   ]
  },
  {
   "cell_type": "code",
   "execution_count": 21,
   "id": "3650aafa-3671-4172-99ef-a2197d732807",
   "metadata": {},
   "outputs": [
    {
     "name": "stdout",
     "output_type": "stream",
     "text": [
      "The largest occurring blood_group type for 10000 random profiles is \"B-\"\n",
      "which occurred 1316 times\n",
      "and the average execution time is 0.002723633549132501 secs\n"
     ]
    }
   ],
   "source": [
    "# Dictionary operation -- Largest Blood Type\n",
    "\n",
    "total = 0\n",
    "num_ops = 1000\n",
    "for i in range(num_ops):\n",
    "    start = perf_counter()\n",
    "    bgDict = dict()\n",
    "    for item in dp:\n",
    "        key = item.get('blood_group')\n",
    "        if key not in bgDict:\n",
    "            bgDict[key] = 1\n",
    "        else:\n",
    "            bgDict[key] += 1\n",
    "    rev_dict = {v:k for k,v in bgDict.items()}\n",
    "    x = rev_dict[max(rev_dict)]\n",
    "    ntime = max(rev_dict)\n",
    "    total += perf_counter() - start\n",
    "bgroup_dict_time = total/num_ops\n",
    "print(f'The largest occurring blood_group type for {sample_size} random profiles is \"{x}\"')\n",
    "print(f'which occurred {ntime} times')\n",
    "print(f'and the average execution time is {bgroup_dict_time} secs')"
   ]
  },
  {
   "cell_type": "code",
   "execution_count": 22,
   "id": "759d519f-63cb-449f-a7e9-5fb5d4aa3a29",
   "metadata": {},
   "outputs": [],
   "source": [
    "# Test case 1 -- Checks if date entered into the age_teller(birthDate) function is valid\n",
    "# first checks for age calculation using year 2000 with same month as now should give 21\n",
    "# second checks for the output to see if we received None\n",
    "# third loops over the profile, fetches the birthdate, and checks if the instance is a date type\n",
    "\n",
    "def test_date_entry():\n",
    "    assert age_teller(date(2000, 7, 4)) == 21\n",
    "    assert age_teller(date(2000, 7, 4)) != None\n",
    "    for item in dp:\n",
    "        assert isinstance(item['birthdate'], date)\n",
    "\n",
    "test_date_entry()"
   ]
  },
  {
   "cell_type": "code",
   "execution_count": 30,
   "id": "95ac2a4c-25e4-459e-940e-dffb06a879c1",
   "metadata": {},
   "outputs": [
    {
     "ename": "AssertionError",
     "evalue": "",
     "output_type": "error",
     "traceback": [
      "\u001b[0;31m---------------------------------------------------------------------------\u001b[0m",
      "\u001b[0;31mAssertionError\u001b[0m                            Traceback (most recent call last)",
      "\u001b[0;32m<ipython-input-30-a084c606705c>\u001b[0m in \u001b[0;36m<module>\u001b[0;34m\u001b[0m\n\u001b[1;32m     10\u001b[0m     \u001b[0;32massert\u001b[0m \u001b[0mlen\u001b[0m\u001b[0;34m(\u001b[0m\u001b[0mC_Location\u001b[0m\u001b[0;34m.\u001b[0m\u001b[0m_fields\u001b[0m\u001b[0;34m)\u001b[0m \u001b[0;34m==\u001b[0m \u001b[0;36m2\u001b[0m\u001b[0;34m\u001b[0m\u001b[0;34m\u001b[0m\u001b[0m\n\u001b[1;32m     11\u001b[0m \u001b[0;34m\u001b[0m\u001b[0m\n\u001b[0;32m---> 12\u001b[0;31m \u001b[0mtest_namedtuple_entry\u001b[0m\u001b[0;34m(\u001b[0m\u001b[0;34m)\u001b[0m\u001b[0;34m\u001b[0m\u001b[0;34m\u001b[0m\u001b[0m\n\u001b[0m",
      "\u001b[0;32m<ipython-input-30-a084c606705c>\u001b[0m in \u001b[0;36mtest_namedtuple_entry\u001b[0;34m()\u001b[0m\n\u001b[1;32m      4\u001b[0m \u001b[0;32mdef\u001b[0m \u001b[0mtest_namedtuple_entry\u001b[0m\u001b[0;34m(\u001b[0m\u001b[0;34m)\u001b[0m\u001b[0;34m:\u001b[0m\u001b[0;34m\u001b[0m\u001b[0;34m\u001b[0m\u001b[0m\n\u001b[1;32m      5\u001b[0m     assert (isinstance(Age, tuple) and isinstance(getattr(Age, '__dict__', None), collections.Mapping) and\n\u001b[0;32m----> 6\u001b[0;31m            getattr(Age, '_fields', None))\n\u001b[0m\u001b[1;32m      7\u001b[0m     \u001b[0;32massert\u001b[0m \u001b[0;34m(\u001b[0m\u001b[0misinstance\u001b[0m\u001b[0;34m(\u001b[0m\u001b[0mAge\u001b[0m\u001b[0;34m,\u001b[0m \u001b[0mtuple\u001b[0m\u001b[0;34m)\u001b[0m \u001b[0;32mand\u001b[0m \u001b[0mhasattr\u001b[0m\u001b[0;34m(\u001b[0m\u001b[0mAge\u001b[0m\u001b[0;34m,\u001b[0m \u001b[0;34m'_asdict'\u001b[0m\u001b[0;34m)\u001b[0m \u001b[0;32mand\u001b[0m \u001b[0mhasattr\u001b[0m\u001b[0;34m(\u001b[0m\u001b[0mAge\u001b[0m\u001b[0;34m,\u001b[0m \u001b[0;34m'_fields'\u001b[0m\u001b[0;34m)\u001b[0m\u001b[0;34m)\u001b[0m\u001b[0;34m\u001b[0m\u001b[0;34m\u001b[0m\u001b[0m\n\u001b[1;32m      8\u001b[0m     \u001b[0;32massert\u001b[0m \u001b[0misinstance\u001b[0m\u001b[0;34m(\u001b[0m\u001b[0mC_Location\u001b[0m\u001b[0;34m,\u001b[0m \u001b[0mnamedtuple\u001b[0m\u001b[0;34m)\u001b[0m\u001b[0;34m\u001b[0m\u001b[0;34m\u001b[0m\u001b[0m\n",
      "\u001b[0;31mAssertionError\u001b[0m: "
     ]
    }
   ],
   "source": [
    "# Test case 2 -- check if Age is a namedtuple; likewise for C_Location and Bloodgroup\n",
    "# Tests if the C_Location contains two fields, latitude and longitude\n",
    "\n",
    "def test_namedtuple_entry():\n",
    "    assert (isinstance(Age, tuple) and isinstance(getattr(Age, '__dict__', None), collections.Mapping) and\n",
    "           getattr(Age, '_fields', None))\n",
    "    assert (isinstance(Age, tuple) and hasattr(Age, '_asdict') and hasattr(Age, '_fields'))\n",
    "    assert isinstance(C_Location, namedtuple)\n",
    "    assert isinstance(Bloodgroup, namedtuple)\n",
    "    assert len(C_Location._fields) == 2\n",
    "\n",
    "test_namedtuple_entry()"
   ]
  },
  {
   "cell_type": "code",
   "execution_count": 39,
   "id": "f0dedfd1-5c26-427e-8622-8badf96fcc20",
   "metadata": {},
   "outputs": [
    {
     "name": "stdout",
     "output_type": "stream",
     "text": [
      "Dictionaries seems faster than namedtuple operations\n"
     ]
    }
   ],
   "source": [
    "# Test case 3 -- Test if namedtuple operations faster than dictionary operations\n",
    "\n",
    "def test_is_namedtuple_faster():\n",
    "    if (aveAge_ntuple_time > aveAge_dict_time and\n",
    "            maxAge_ntuple_time > maxAge_dict_time and\n",
    "            curLoc_ntuple_time > curLoc_dict_time and\n",
    "            bgroup_ntuple_time > bgroup_dict_time\n",
    "           ):\n",
    "        print(f'Dictionaries seems faster than namedtuple operations')\n",
    "\n",
    "test_is_namedtuple_faster()"
   ]
  },
  {
   "cell_type": "code",
   "execution_count": 60,
   "id": "56913d6d-7fb4-4a1e-a901-c6c026607e87",
   "metadata": {},
   "outputs": [],
   "source": [
    "# Test case 4 -- Check if docstrings for the namedtuples are matching what we wrote\n",
    "# This seems funny but I couldnt finish the assignment on time.\n",
    "\n",
    "def test_docstring_for_namedtuples():\n",
    "    assert (Age.__doc__ == 'Age is a namedtuple with a single field variable \"age\"')\n",
    "\n",
    "test_docstring_for_namedtuples()"
   ]
  },
  {
   "cell_type": "code",
   "execution_count": null,
   "id": "350aa0ad-c522-4a39-80fd-dff8770a0e87",
   "metadata": {},
   "outputs": [],
   "source": []
  },
  {
   "cell_type": "code",
   "execution_count": null,
   "id": "da991d5b-a9ba-4089-8a4e-291e72f7edde",
   "metadata": {},
   "outputs": [],
   "source": []
  }
 ],
 "metadata": {
  "kernelspec": {
   "display_name": "Python 3",
   "language": "python",
   "name": "python3"
  },
  "language_info": {
   "codemirror_mode": {
    "name": "ipython",
    "version": 3
   },
   "file_extension": ".py",
   "mimetype": "text/x-python",
   "name": "python",
   "nbconvert_exporter": "python",
   "pygments_lexer": "ipython3",
   "version": "3.7.7"
  }
 },
 "nbformat": 4,
 "nbformat_minor": 5
}
